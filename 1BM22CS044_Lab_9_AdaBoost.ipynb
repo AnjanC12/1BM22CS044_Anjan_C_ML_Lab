{
  "nbformat": 4,
  "nbformat_minor": 0,
  "metadata": {
    "colab": {
      "provenance": []
    },
    "kernelspec": {
      "name": "python3",
      "display_name": "Python 3"
    },
    "language_info": {
      "name": "python"
    }
  },
  "cells": [
    {
      "cell_type": "code",
      "execution_count": 4,
      "metadata": {
        "colab": {
          "base_uri": "https://localhost:8080/"
        },
        "id": "NnESV2zA0bEU",
        "outputId": "eeedfe10-a2fa-4130-da75-1d6ba70a7c75"
      },
      "outputs": [
        {
          "output_type": "stream",
          "name": "stdout",
          "text": [
            "Accuracy: 0.833\n",
            "Confusion Matrix:\n",
            "[[7003  411]\n",
            " [1223 1132]]\n"
          ]
        }
      ],
      "source": [
        "import pandas as pd\n",
        "from sklearn.ensemble import AdaBoostClassifier\n",
        "from sklearn.tree import DecisionTreeClassifier\n",
        "from sklearn.model_selection import train_test_split\n",
        "from sklearn.metrics import accuracy_score, confusion_matrix\n",
        "\n",
        "# Load the dataset\n",
        "df = pd.read_csv(\"income.csv\")\n",
        "\n",
        "# Define features and target\n",
        "X = df.drop('income_level', axis=1)\n",
        "y = df['income_level']\n",
        "\n",
        "# Split into 80% training and 20% testing\n",
        "X_train, X_test, y_train, y_test = train_test_split(X, y, test_size=0.2, random_state=42)\n",
        "\n",
        "# Initialize AdaBoost with a Decision Tree base estimator\n",
        "base_estimator = DecisionTreeClassifier(max_depth=1)\n",
        "model = AdaBoostClassifier(n_estimators=50, random_state=42)\n",
        "\n",
        "# Train the model\n",
        "model.fit(X_train, y_train)\n",
        "\n",
        "# Predict on the test set\n",
        "y_pred = model.predict(X_test)\n",
        "\n",
        "# Evaluate the model\n",
        "accuracy = accuracy_score(y_test, y_pred)\n",
        "conf_matrix = confusion_matrix(y_test, y_pred)\n",
        "\n",
        "# Display results\n",
        "print(f\"Accuracy: {accuracy:.3f}\")\n",
        "print(\"Confusion Matrix:\")\n",
        "print(conf_matrix)"
      ]
    },
    {
      "cell_type": "code",
      "source": [
        "import pandas as pd\n",
        "from sklearn.model_selection import train_test_split\n",
        "from sklearn.ensemble import AdaBoostClassifier\n",
        "from sklearn.tree import DecisionTreeClassifier\n",
        "from sklearn.linear_model import LogisticRegression\n",
        "from sklearn.metrics import accuracy_score\n",
        "from sklearn.preprocessing import LabelEncoder\n",
        "\n",
        "# Load the dataset\n",
        "iris_df = pd.read_csv('iris.csv')\n",
        "\n",
        "# Encode the target variable (species)\n",
        "le = LabelEncoder()\n",
        "iris_df['species'] = le.fit_transform(iris_df['species'])\n",
        "\n",
        "# Features and target\n",
        "X = iris_df[['sepal_length', 'sepal_width', 'petal_length', 'petal_width']]\n",
        "y = iris_df['species']\n",
        "\n",
        "# Split data\n",
        "X_train, X_test, y_train, y_test = train_test_split(X, y, test_size=0.2, random_state=42)\n",
        "\n",
        "# Function to train and evaluate AdaBoost\n",
        "def evaluate_adaboost(estimator, n_estimators, learning_rate, estimator_name):\n",
        "    model = AdaBoostClassifier(\n",
        "        estimator=estimator,\n",
        "        n_estimators=n_estimators,\n",
        "        learning_rate=learning_rate,\n",
        "        random_state=42\n",
        "    )\n",
        "    model.fit(X_train, y_train)\n",
        "    y_pred = model.predict(X_test)\n",
        "    accuracy = accuracy_score(y_test, y_pred)\n",
        "    print(f\"{estimator_name} with n_estimators={n_estimators}, learning_rate={learning_rate}: Accuracy = {accuracy:.3f}\")\n",
        "    return accuracy\n",
        "\n",
        "# Experiment 1: Vary n_estimators and learning_rate with Decision Tree\n",
        "print(\"AdaBoost with Decision Tree:\")\n",
        "dt_base = DecisionTreeClassifier(max_depth=1)\n",
        "n_estimators_list = [10, 50, 100]\n",
        "learning_rates = [0.1, 0.5, 1.0]\n",
        "\n",
        "for n in n_estimators_list:\n",
        "    for lr in learning_rates:\n",
        "        evaluate_adaboost(dt_base, n, lr, \"Decision Tree\")\n",
        "\n",
        "# Experiment 2: Use Logistic Regression as base classifier\n",
        "print(\"\\nAdaBoost with Logistic Regression:\")\n",
        "logreg_base = LogisticRegression(max_iter=1000)\n",
        "for n in n_estimators_list:\n",
        "    for lr in learning_rates:\n",
        "        evaluate_adaboost(logreg_base, n, lr, \"Logistic Regression\")"
      ],
      "metadata": {
        "colab": {
          "base_uri": "https://localhost:8080/"
        },
        "id": "Z2eg1Omk2pj2",
        "outputId": "e306e322-3cb7-46ce-a421-82ed2a4a5a26"
      },
      "execution_count": 5,
      "outputs": [
        {
          "output_type": "stream",
          "name": "stdout",
          "text": [
            "AdaBoost with Decision Tree:\n",
            "Decision Tree with n_estimators=10, learning_rate=0.1: Accuracy = 0.967\n",
            "Decision Tree with n_estimators=10, learning_rate=0.5: Accuracy = 1.000\n",
            "Decision Tree with n_estimators=10, learning_rate=1.0: Accuracy = 1.000\n",
            "Decision Tree with n_estimators=50, learning_rate=0.1: Accuracy = 1.000\n",
            "Decision Tree with n_estimators=50, learning_rate=0.5: Accuracy = 0.967\n",
            "Decision Tree with n_estimators=50, learning_rate=1.0: Accuracy = 0.933\n",
            "Decision Tree with n_estimators=100, learning_rate=0.1: Accuracy = 1.000\n",
            "Decision Tree with n_estimators=100, learning_rate=0.5: Accuracy = 1.000\n",
            "Decision Tree with n_estimators=100, learning_rate=1.0: Accuracy = 0.933\n",
            "\n",
            "AdaBoost with Logistic Regression:\n",
            "Logistic Regression with n_estimators=10, learning_rate=0.1: Accuracy = 1.000\n",
            "Logistic Regression with n_estimators=10, learning_rate=0.5: Accuracy = 0.967\n",
            "Logistic Regression with n_estimators=10, learning_rate=1.0: Accuracy = 0.933\n",
            "Logistic Regression with n_estimators=50, learning_rate=0.1: Accuracy = 1.000\n",
            "Logistic Regression with n_estimators=50, learning_rate=0.5: Accuracy = 1.000\n",
            "Logistic Regression with n_estimators=50, learning_rate=1.0: Accuracy = 0.933\n",
            "Logistic Regression with n_estimators=100, learning_rate=0.1: Accuracy = 1.000\n",
            "Logistic Regression with n_estimators=100, learning_rate=0.5: Accuracy = 1.000\n",
            "Logistic Regression with n_estimators=100, learning_rate=1.0: Accuracy = 0.933\n"
          ]
        }
      ]
    },
    {
      "cell_type": "code",
      "source": [],
      "metadata": {
        "id": "VyDoi2CS4jPi"
      },
      "execution_count": null,
      "outputs": []
    }
  ]
}